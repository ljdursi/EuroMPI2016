{
 "cells": [
  {
   "cell_type": "markdown",
   "metadata": {},
   "source": [
    "# A First Spark Notebook\n",
    "\n",
    "Here we set up a small 1-d simulation in Spark and let it do the decomposition and updates on a cell-by-cell basis"
   ]
  },
  {
   "cell_type": "markdown",
   "metadata": {},
   "source": [
    "In this first set of imports we get the environment ready. If this is the first notebook you're running in this VM, matplotlib may emit warnings about generating font caches for the first time - that's normal."
   ]
  },
  {
   "cell_type": "code",
   "execution_count": null,
   "metadata": {
    "collapsed": false
   },
   "outputs": [],
   "source": [
    "import numpy as np\n",
    "import matplotlib.pylab as plt\n",
    "%matplotlib inline\n",
    "import findspark"
   ]
  },
  {
   "cell_type": "markdown",
   "metadata": {},
   "source": [
    "Now we use findspark to figure out where `SPARK_HOME` is and put that in the python path, and create a spark context with 4 local processes"
   ]
  },
  {
   "cell_type": "code",
   "execution_count": null,
   "metadata": {
    "collapsed": false
   },
   "outputs": [],
   "source": [
    "findspark.init()\n",
    "from pyspark import SparkContext"
   ]
  },
  {
   "cell_type": "markdown",
   "metadata": {},
   "source": [
    "That done, we write some code:"
   ]
  },
  {
   "cell_type": "code",
   "execution_count": null,
   "metadata": {
    "collapsed": false
   },
   "outputs": [],
   "source": [
    "def thermal_simulation_1d(sc, ncells, nsteps, nprocs,\n",
    "                           leftX=-10., rightX=+10.,\n",
    "                           sigma=1.5, ao=1., coeff=.45):\n",
    "    \n",
    "    cells_per_proc = (ncells+nprocs-1) // nprocs\n",
    "    # helper functions: \n",
    "    # - find out if a point is a boundary point or interior\n",
    "    # - calculate the 1d diffusion stencil\n",
    "    # - partition data in contiguous chuns\n",
    "    # - collect the data and plot\n",
    "    def is_interior(cell):                        # boilerplate\n",
    "        \"\"\"Is this point an interior point (eg, not guardcell?)\"\"\"\n",
    "        index, temperature = cell\n",
    "        return (index > 0) and (index < ncells-1)\n",
    "\n",
    "    def stencil(cell):\n",
    "        \"\"\"Return the contributions of this cell to all neighbouring cells\"\"\"\n",
    "        index, temperature = cell\n",
    "        updates = [(index,  -2*coeff*temperature), \n",
    "                   (index-1, coeff*temperature), \n",
    "                   (index+1, coeff*temperature)]\n",
    "        return [cell] + [delta for delta in updates if is_interior(delta)]\n",
    "    \n",
    "    def plot_data(data, usecolor=None):\n",
    "        \"\"\"Gets the data by partition for plot:\n",
    "           for the given data, return a list of (index, value, partition#) triples.\"\"\"\n",
    "        def f(partition, iterator):\n",
    "            yield [(i[0], i[1], partition) for i in iterator]\n",
    "        alltriples = [triple for item in data.mapPartitionsWithIndex(f).collect()\n",
    "                             for triple in item]\n",
    "        x, y, color = list(zip(*alltriples))\n",
    "        x = leftX + (rightX-leftX)/ncells * np.array(x)\n",
    "        if usecolor is not None:\n",
    "            color=usecolor\n",
    "        plt.scatter(x, y, c=color, edgecolor='')\n",
    "\n",
    "    # The main calculation\n",
    "    # Step 1: Calculate initial conditions\n",
    "    x = np.linspace(leftX, rightX, ncells)\n",
    "    temperatures = ao * np.exp(-x*x/(2.*sigma*sigma))\n",
    "    temps_and_idxs = [(i, temperatures[i]) for i in range(len(temperatures))]\n",
    "\n",
    "    # Step 2: Distribute data across tasks\n",
    "    # Plot initial conditions in red\n",
    "    data = sc.parallelize(temps_and_idxs, nprocs)\n",
    "    plot_data(data, usecolor='red')\n",
    "    \n",
    "    # Main loop: For each iteration,\n",
    "    #  - calculate terms in the next step\n",
    "    #  - and sum\n",
    "    for step in range(nsteps):\n",
    "        data = data.flatMap(stencil) \\\n",
    "                    .reduceByKey(lambda x, y:x+y)\n",
    "            \n",
    "    # Plot final results in black\n",
    "    plot_data(data, usecolor='black')"
   ]
  },
  {
   "cell_type": "code",
   "execution_count": null,
   "metadata": {
    "collapsed": false
   },
   "outputs": [],
   "source": [
    "with SparkContext(\"local[4]\") as sc:\n",
    "    thermal_simulation_1d(sc, ncells=50, nsteps=20, nprocs=4)"
   ]
  }
 ],
 "metadata": {
  "kernelspec": {
   "display_name": "Python 3",
   "language": "python",
   "name": "python3"
  },
  "language_info": {
   "codemirror_mode": {
    "name": "ipython",
    "version": 3
   },
   "file_extension": ".py",
   "mimetype": "text/x-python",
   "name": "python",
   "nbconvert_exporter": "python",
   "pygments_lexer": "ipython3",
   "version": "3.5.1"
  }
 },
 "nbformat": 4,
 "nbformat_minor": 0
}
